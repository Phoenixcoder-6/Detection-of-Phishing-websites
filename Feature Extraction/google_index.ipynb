{
  "nbformat": 4,
  "nbformat_minor": 0,
  "metadata": {
    "colab": {
      "provenance": []
    },
    "kernelspec": {
      "name": "python3",
      "display_name": "Python 3"
    },
    "language_info": {
      "name": "python"
    }
  },
  "cells": [
    {
      "cell_type": "code",
      "execution_count": null,
      "metadata": {
        "id": "tm5Mnvu9Hgsa"
      },
      "outputs": [],
      "source": [
        "import re\n",
        "import requests\n",
        "from bs4 import BeautifulSoup\n",
        "def google_index(url):\n",
        "  google = \"https://www.google.com/search?q=site:\" + url + \"&hl=en\"\n",
        "  response = requests.get(google, cookies={\"CONSENT\": \"YES+1\"})\n",
        "  soup = BeautifulSoup(response.content, \"html.parser\")\n",
        "  not_indexed = re.compile(\"did not match any documents\")\n",
        "\n",
        "  if soup(text=not_indexed):\n",
        "    return 1\n",
        "  else:\n",
        "    return 0"
      ]
    },
    {
      "cell_type": "code",
      "source": [
        "import csv\n",
        "import pandas as pd\n",
        "\n",
        "opener = open(\"/content/Book1.csv\")\n",
        "reader = csv.reader(opener)\n",
        "datasets = list(reader)\n",
        "x = []\n",
        "print(datasets)"
      ],
      "metadata": {
        "colab": {
          "base_uri": "https://localhost:8080/"
        },
        "id": "kECQwG6gHr0R",
        "outputId": "8f45eb6d-6e84-42e8-9937-4c81f54eac30"
      },
      "execution_count": null,
      "outputs": [
        {
          "output_type": "stream",
          "name": "stdout",
          "text": [
            "[['url'], ['https://ww.mp3juices.icu/'], ['http://printed-notes.blogspot.com/2014/04/'], ['https://paper.erudition.co.in/'], ['scientificamerican.com'], ['http://quiteit.blogspot.com/2017/02/piku-2015-hindi-480p-brrip-350mb.html#'], ['https://www.softwaretestinghelp.com/top-dbms-interview-questions/'], ['https://www.housingfinance.org/'], ['https://www.findevgateway.org/organization/international-union-housing-finance-iuhf'], ['https://www.hdfcbank.com/'], ['https://www.firstpost.com/business/'], ['https://www.fullbucket.de/music/blooo.html'], ['https://www.mp4moviez.how/c24012/aparajito-(2022)-bengali-hdrip.html'], ['https://www.programmingsimplified.com/c/source-code/c-program-bubble-sort'], ['https://www.pcrisk.com/removal-guides/25096-tuow-ransomware'], ['https://malwaretips.com/blogs/remove-tuow-ransomware-virus/'], ['https://thenamesdictionary.com/name-meaning/'], ['https://dblp.org/pid/57/10298.html'], ['https://www.gugobet.com/'], ['https://onlinebettingapp.in/bookmakers/gugobet-app/'], ['https://slovnik.seznam.cz'], ['https://www.hoou.de/'], ['https://www.fzt.haw-hamburg.de/pers/Scholz/HOOU/'], ['https://www.ultimateears.com/'], ['https://www.ue-germany.com/'], ['https://european-union.europa.eu/index_en'], ['https://www.merriam-webster.com/dictionary/UE'], ['https://dir.indiamart.com/impcat/ue-bluetooth-speaker.html'], ['https://viw.pixel-online.org/'], ['https://www.mkssoftware.com/docs/man1/viw.1.asp'], ['https://economictimes.indiatimes.com/company/viw-vaccine-world-private-limited/U24299TN2018PTC124083'], ['https://in.tradingview.com/symbols/UPCOM-VIW/'], ['https://ghasitaram.in/'], ['https://en.wikipedia.org/wiki/The_Million_Dollar_Homepage'], ['https://www.dxdelivery.com/'], ['https://getdx.com/'], ['https://www.nikonusa.com/en/nikon-products/dslr-cameras/dx.page'], ['https://unnatbharatabhiyan.gov.in/'], ['https://www.ubagroup.com/'], ['https://www.ubauganda.com/'], ['https://www.gov.uk/british-national-overseas-bno-visa'], ['https://migrationobservatory.ox.ac.uk/resources/commentaries/qa-the-new-route-to-citizenship-for-some-hong-kong-residents/'], ['https://economictimes.indiatimes.com/topic/british-national-overseas-bno'], ['https://www.davidsonmorris.com/hong-kong-bno-visa/'], ['https://frojoapps.fandom.com/wiki/Moy_(game)'], ['https://www.netflix.com/title/81134264'], ['https://www.mo.gov/'], ['https://www.rottentomatoes.com/tv/mo'], ['https://edited.com/'], ['https://www.crunchbase.com/organization/editd'], ['https://techdocs.broadcom.com'], ['https://www.priceline.com/hotel-deals/amp/h59895303/HR/Croatia/Metajna/Apartment-Metajna-6497e.html'], ['https://www.hexdictionary.com/hex/6497e'], ['https://www.moneycontrol.com/news/business/page-6497/e/www.moneycontrol.com/msite/future-of-mobility?classic=true'], ['https://www.redfin.com/CA/Anaheim/6497-E-Calle-Del-Norte-92807/home/4299833'], ['https://www.realtor.com/realestateandhomes-detail/6497-E-Via-Algardi_Tucson_AZ_85750_M24232-25359'], ['https://www.amazon.com/24-Season-1/dp/B000HPF85A'], ['https://www.hindustantimes.com/india-news/breaking-news-live-updates-november-12-2022-101668212164074.html'], ['https://www.indiatoday.in/india/story/drinking-country-liquor-24-elephants-sleep-for-hours-in-odisha-forest-2295592-2022-11-10'], ['https://www.sos-childrensvillages.org/'], ['https://www.mentalfloss.com/article/31911/what-does-sos-stand'], ['https://www.sosbc.org/who-we-are/the-meaning-of-sos/'], ['https://www.myvi.in/'], ['https://www.gadgets360.com/mobile-recharge-plans/vi-prepaid'], ['https://vmagazine.com/'], ['https://open.spotify.com/artist/3JsHnjpbhX4SnySpvpa9DK'], ['https://www.hsph.harvard.edu/nutritionsource/vitamin-a/'], ['https://www.healthline.com/nutrition/vitamin-a'], ['http://www.walmart.com/'], ['https://chennai.nic.in/oap-eligibility/'], ['https://oap.tn.gov.in/'], ['youtube.com'], ['www.google.com'], ['apple.com'], ['linkedin.com'], ['microsoft.com'], ['support.google.com'], ['www.blogger.com'], ['play.google.com'], ['docs.google.com'], ['en.wikipedia.org'], ['mozilla.org'], ['youtu.be'], ['maps.google.com'], ['wordpress.org'], ['cloudflare.com'], ['bp.blogspot.com'], ['adobe.com'], ['googleusercontent.com'], ['whatsapp.com'], ['sites.google.com'], ['europa.eu'], ['drive.google.com'], ['accounts.google.com'], ['plus.google.com'], ['vimeo.com'], ['github.com'], ['vk.com'], ['facebook.com'], ['t.me'], ['uol.com.br'], ['policies.google.com'], ['istockphoto.com'], ['amazon.com'], ['search.google.com'], ['youronlinechoices.com'], ['www.weebly.com'], ['news.google.com'], ['buydomains.com'], ['bbc.com'], ['nytimes.com'], ['cnn.com'], ['theguardian.com'], ['nih.gov'], ['live.com'], ['feedburner.com'], ['enable-javascript.com'], ['tools.google.com'], ['google.de'], ['bbc.co.uk'], ['es.wikipedia.org'], ['globo.com'], ['google.es'], ['dailymotion.com'], ['files.wordpress.com'], ['developers.google.com'], ['www.yahoo.com'], ['wikimedia.org'], ['paypal.com'], ['who.int'], ['creativecommons.org'], ['gravatar.com'], ['line.me'], ['terra.com.br'], ['dropbox.com'], ['issuu.com'], ['brandbucket.com'], ['draft.blogger.com'], ['slideshare.net'], ['google.co.jp'], ['cpanel.net'], ['fr.wikipedia.org'], ['pt.wikipedia.org'], ['jimdofree.com'], ['shopify.com'], ['opera.com'], ['gstatic.com'], ['google.com.br'], ['w3.org'], ['imdb.com'], ['medium.com'], ['mail.google.com'], ['picasaweb.google.com'], ['goo.gl'], ['cbsnews.com'], ['office.com'], ['change.org'], ['networkadvertising.org'], ['webmd.com'], ['amazon.es'], ['foxnews.com'], ['pixabay.com'], ['time.com'], ['msn.com'], ['pinterest.com'], ['wp.com'], ['aliexpress.com'], ['aboutads.info'], ['nasa.gov'], ['wikihow.com'], ['elpais.com'], ['yadi.sk'], ['nature.com'], ['independent.co.uk'], ['planalto.gov.br'], ['huffingtonpost.com'], ['photos.google.com'], ['bing.com'], ['twitter.com'], ['amazon.co.uk'], ['archive.org'], ['netvibes.com'], ['telegraph.co.uk'], ['marketingplatform.google....'], ['mirror.co.uk'], ['bit.ly'], ['news.yahoo.com'], ['amazon.co.jp'], ['wsj.com'], ['4shared.com'], ['abril.com.br'], ['ru.wikipedia.org'], ['tiktok.com'], ['un.org'], ['samsung.com'], ['plesk.com'], ['forbes.com'], ['cdc.gov'], ['list-manage.com'], ['businessinsider.com'], ['wikia.com'], ['namecheap.com'], ['de.wikipedia.org'], ['huffpost.com'], ['forms.gle'], ['hatena.ne.jp'], ['fandom.com'], ['ig.com.br'], ['google.it'], ['researchgate.net'], ['mail.ru'], ['cnet.com'], ['tinyurl.com'], ['domainmarket.com'], ['amazon.de'], ['thesun.co.uk'], ['google.co.uk'], ['afternic.com'], ['dan.com'], ['ok.ru'], ['t.co'], ['soundcloud.com'], ['google.pl'], ['dailymail.co.uk'], ['google.fr'], ['booking.com'], ['shutterstock.com'], ['reuters.com'], ['bloomberg.com'], ['estadao.com.br'], ['mediafire.com'], ['fb.com'], ['myaccount.google.com'], ['ytimg.com'], ['www.gov.uk'], ['storage.googleapis.com'], ['wa.me'], ['scribd.com'], ['usatoday.com'], ['imageshack.us'], ['telegram.me'], ['washingtonpost.com'], ['myspace.com'], ['get.google.com'], ['gmail.com'], ['qq.com'], ['ikea.com'], ['ea.com'], ['wiktionary.org'], ['cambridge.org'], ['aol.com'], ['mega.nz'], ['springer.com'], ['lefigaro.fr'], ['rapidshare.com'], ['wiley.com'], ['as.com'], ['redbull.com'], ['offset.com'], ['prezi.com'], ['lemonde.fr'], ['picasa.google.com'], ['themeforest.net'], ['newyorker.com'], ['imageshack.com'], ['metro.co.uk'], ['icann.org'], ['nypost.com'], ['timeweb.ru'], ['canada.ca'], ['thetimes.co.uk'], ['engadget.com'], ['yahoo.co.jp'], ['netflix.com'], ['google.nl'], ['sapo.pt'], ['cornell.edu'], ['gofundme.com'], ['cpanel.com'], ['abcnews.go.com'], ['weibo.com'], ['mozilla.com'], ['ft.com'], ['alexa.com'], ['britannica.com'], ['fb.me'], ['nbcnews.com'], ['www.canalblog.com'], ['abc.es'], ['android.com'], ['gizmodo.com'], ['lg.com'], ['buzzfeed.com'], ['sakura.ne.jp'], ['arxiv.org'], ['bloglovin.com'], ['gooyaabitemplates.com'], ['it.wikipedia.org'], ['e-monsite.com'], ['translate.google.com'], ['php.net'], ['cointernet.com.co'], ['indiatimes.com'], ['quora.com'], ['sciencedirect.com'], ['nginx.com'], ['berkeley.edu'], ['plos.org'], ['techcrunch.com'], ['photobucket.com'], ['finance.yahoo.com'], ['disqus.com'], ['sciencemag.org'], ['pbs.org'], ['mit.edu'], ['ebay.com'], ['elmundo.es'], ['freepik.com'], ['deezer.com'], ['zoom.us'], ['radiofrance.fr'], ['xing.com'], ['wired.com'], ['vice.com'], ['unsplash.com'], ['lexpress.fr'], ['outlook.com'], ['google.ru'], ['instagram.com'], ['npr.org'], ['cbc.ca'], ['thenai.org'], ['xinhuanet.com'], ['spotify.com'], ['mashable.com'], ['goodreads.com'], ['akamaihd.net'], ['apache.org'], ['linktr.ee'], ['www.wikipedia.org'], ['webnode.page'], ['theatlantic.com'], ['pl.wikipedia.org'], ['ted.com'], ['ftc.gov'], ['20minutos.es'], ['lavanguardia.com'], ['whitehouse.gov'], ['discord.com'], ['kickstarter.com'], ['playstation.com'], ['xbox.com'], ['biglobe.ne.jp'], ['akamaized.net'], ['surveymonkey.com'], ['nydailynews.com'], ['bp2.blogger.com'], ['yandex.com'], ['ca.gov'], ['google.co.in'], ['code.google.com'], ['ovh.com'], ['id.wikipedia.org'], ['addtoany.com'], ['groups.google.com'], ['pexels.com'], ['skype.com'], ['detik.com'], ['clickbank.net'], ['books.google.com'], ['ouest-france.fr'], ['doi.org'], ['instructables.com'], ['hugedomains.com'], ['leparisien.fr'], ['express.co.uk'], ['spiegel.de'], ['photos1.blogger.com'], ['steampowered.com'], ['latimes.com'], ['secureserver.net'], ['ja.wikipedia.org'], ['vkontakte.ru'], ['clarin.com'], ['dreamstime.com'], ['ipv4.google.com'], ['huawei.com'], ['target.com'], ['tripadvisor.com'], ['www.gov.br'], ['disney.com'], ['abc.net.au'], ['rtve.es'], ['hp.com'], ['oracle.com'], ['dw.com'], ['walmart.com'], ['eventbrite.com'], ['naver.com'], ['economist.com'], ['hubspot.com'], ['cnil.fr'], ['rt.com'], ['newsweek.com'], ['ietf.org'], ['www.over-blog.com'], ['sputniknews.com'], ['insider.com'], ['ssl-images-amazon.com'], ['cnbc.com'], ['sciencedaily.com'], ['godaddy.com'], ['bandcamp.com'], ['yandex.ru'], ['ibm.com'], ['m.wikipedia.org'], ['adssettings.google.com'], ['sendspace.com'], ['unesco.org'], ['amzn.to'], ['blog.fc2.com'], ['washington.edu'], ['stanford.edu'], ['discord.gg'], ['rambler.ru'], ['doubleclick.net'], ['zendesk.com'], ['pinterest.fr'], ['search.yahoo.com'], ['alicdn.com'], ['amazon.fr'], ['yelp.com'], ['espn.com'], ['urbandictionary.com'], ['privacyshield.gov'], ['addthis.com'], ['amazon.it'], ['windows.net'], ['nationalgeographic.com'], ['twitch.tv'], ['rakuten.co.jp'], ['theverge.com'], ['liveinternet.ru'], ['oup.com'], ['harvard.edu'], ['google.ca'], ['about.com'], ['psychologytoday.com'], ['nginx.org'], ['www.wix.com'], ['googleblog.com'], ['sedo.com'], ['ziddu.com'], ['reg.ru'], ['gnu.org'], ['ggpht.com'], ['francetvinfo.fr'], ['academia.edu'], ['guardian.co.uk'], ['netlify.app'], ['ria.ru'], ['www.livejournal.com'], ['variety.com'], ['debian.org'], ['rottentomatoes.com'], ['allaboutcookies.org'], ['vox.com'], ['flickr.com'], ['goal.com'], ['umich.edu'], ['calameo.com'], ['nikkei.com'], ['tmz.com'], ['snapchat.com'], ['lifehacker.com'], ['scoop.it'], ['chinadaily.com.cn'], ['iso.org'], ['ovhcloud.com'], ['ox.ac.uk'], ['frontiersin.org'], ['digitaltrends.com'], ['ucla.edu'], ['zdf.de'], ['google.com.au'], ['rbc.ru'], ['epa.gov'], ['viglink.com'], ['sec.gov'], ['redhat.com'], ['usnews.com'], ['wordreference.com'], ['m.me'], ['adweek.com'], ['ameba.jp'], ['focus.de'], ['faz.net'], ['corriere.it'], ['stackoverflow.com'], ['http://esporte.uol.com.br/belas-da-torcida/2015/corinthians/perfil/thalita-do-vale/'], ['podcasts.google.com']]\n"
          ]
        }
      ]
    },
    {
      "cell_type": "code",
      "source": [
        "import csv\n",
        "import pandas as pd\n",
        "\n",
        "from socket import gaierror\n",
        "z=[]\n",
        "for item in datasets[1:2001]:\n",
        "  for ele in item:\n",
        "    y = []\n",
        "    y.append(ele)\n",
        "    a = google_index(ele)\n",
        "    y.append(a)\n",
        "    z.append(y)\n",
        "\n",
        "print(len(z))"
      ],
      "metadata": {
        "colab": {
          "base_uri": "https://localhost:8080/"
        },
        "id": "-XtIDeVrHy6o",
        "outputId": "44ba440b-a61d-4575-8c8f-24e217ed2993"
      },
      "execution_count": null,
      "outputs": [
        {
          "output_type": "stream",
          "name": "stdout",
          "text": [
            "500\n"
          ]
        }
      ]
    },
    {
      "cell_type": "code",
      "source": [
        "import pandas as pd\n",
        "heading = ['url','google index']\n",
        "phish = pd.DataFrame(z,columns=heading)\n",
        "phish.head()\n",
        "phish.to_csv(\"f.csv\",index=False)"
      ],
      "metadata": {
        "id": "oe18BcY3H5z6"
      },
      "execution_count": null,
      "outputs": []
    }
  ]
}