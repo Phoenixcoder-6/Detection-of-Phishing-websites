{
  "cells": [
    {
      "cell_type": "code",
      "execution_count": null,
      "metadata": {
        "colab": {
          "base_uri": "https://localhost:8080/"
        },
        "id": "yfHDIz9ABHo6",
        "outputId": "d34ad90c-5d93-4954-a5eb-fc8272b7b8aa"
      },
      "outputs": [
        {
          "output_type": "stream",
          "name": "stdout",
          "text": [
            "Looking in indexes: https://pypi.org/simple, https://us-python.pkg.dev/colab-wheels/public/simple/\n",
            "Collecting favicon\n",
            "  Downloading favicon-0.7.0-py2.py3-none-any.whl (5.9 kB)\n",
            "Requirement already satisfied: requests>=2.21.0 in /usr/local/lib/python3.7/dist-packages (from favicon) (2.23.0)\n",
            "Collecting beautifulsoup4>=4.7.0\n",
            "  Downloading beautifulsoup4-4.11.1-py3-none-any.whl (128 kB)\n",
            "\u001b[K     |████████████████████████████████| 128 kB 7.7 MB/s \n",
            "\u001b[?25hCollecting soupsieve>1.2\n",
            "  Downloading soupsieve-2.3.2.post1-py3-none-any.whl (37 kB)\n",
            "Requirement already satisfied: idna<3,>=2.5 in /usr/local/lib/python3.7/dist-packages (from requests>=2.21.0->favicon) (2.10)\n",
            "Requirement already satisfied: certifi>=2017.4.17 in /usr/local/lib/python3.7/dist-packages (from requests>=2.21.0->favicon) (2022.9.24)\n",
            "Requirement already satisfied: urllib3!=1.25.0,!=1.25.1,<1.26,>=1.21.1 in /usr/local/lib/python3.7/dist-packages (from requests>=2.21.0->favicon) (1.24.3)\n",
            "Requirement already satisfied: chardet<4,>=3.0.2 in /usr/local/lib/python3.7/dist-packages (from requests>=2.21.0->favicon) (3.0.4)\n",
            "Installing collected packages: soupsieve, beautifulsoup4, favicon\n",
            "  Attempting uninstall: beautifulsoup4\n",
            "    Found existing installation: beautifulsoup4 4.6.3\n",
            "    Uninstalling beautifulsoup4-4.6.3:\n",
            "      Successfully uninstalled beautifulsoup4-4.6.3\n",
            "Successfully installed beautifulsoup4-4.11.1 favicon-0.7.0 soupsieve-2.3.2.post1\n"
          ]
        }
      ],
      "source": [
        "!pip install favicon"
      ]
    },
    {
      "cell_type": "code",
      "execution_count": null,
      "metadata": {
        "id": "wyB9SxdJBWNg"
      },
      "outputs": [],
      "source": [
        "import favicon\n",
        "from socket import gaierror\n",
        "def presencefavicon(url):\n",
        "  if url.startswith(\"https\") == False:\n",
        "    url = \"http://\" + url\n",
        "  try:\n",
        "    if len(favicon.get(url)) == 0:\n",
        "      return 1\n",
        "    else:\n",
        "      return 0\n",
        "  except Exception:\n",
        "    return 1"
      ]
    },
    {
      "cell_type": "code",
      "execution_count": null,
      "metadata": {
        "colab": {
          "base_uri": "https://localhost:8080/"
        },
        "id": "ob7ICLleBaXa",
        "outputId": "f028641a-c354-4cef-c140-3319b1fdd8a5"
      },
      "outputs": [
        {
          "output_type": "stream",
          "name": "stdout",
          "text": [
            "[['domain'], ['xbox.com'], ['biglobe.ne.jp'], ['akamaized.net'], ['surveymonkey.com'], ['nydailynews.com'], ['bp2.blogger.com'], ['yandex.com'], ['ca.gov'], ['google.co.in'], ['code.google.com'], ['ovh.com'], ['id.wikipedia.org'], ['addtoany.com'], ['groups.google.com'], ['pexels.com'], ['skype.com'], ['detik.com'], ['clickbank.net'], ['books.google.com'], ['ouest-france.fr'], ['doi.org'], ['instructables.com'], ['hugedomains.com'], ['leparisien.fr'], ['express.co.uk'], ['spiegel.de'], ['photos1.blogger.com'], ['steampowered.com'], ['latimes.com'], ['secureserver.net'], ['ja.wikipedia.org'], ['vkontakte.ru'], ['clarin.com'], ['dreamstime.com'], ['ipv4.google.com'], ['huawei.com'], ['target.com'], ['tripadvisor.com'], ['www.gov.br'], ['disney.com'], ['abc.net.au'], ['rtve.es'], ['hp.com'], ['oracle.com'], ['dw.com'], ['walmart.com'], ['eventbrite.com'], ['naver.com'], ['economist.com'], ['hubspot.com']]\n"
          ]
        }
      ],
      "source": [
        "import csv\n",
        "import pandas as pd\n",
        "\n",
        "opener = open(\"/content/url list.csv\")\n",
        "reader = csv.reader(opener)\n",
        "datasets = list(reader)\n",
        "x = []\n",
        "print(datasets)"
      ]
    },
    {
      "cell_type": "code",
      "execution_count": null,
      "metadata": {
        "colab": {
          "base_uri": "https://localhost:8080/"
        },
        "id": "ixCyrO7uBjvS",
        "outputId": "900b8000-5b17-4b5b-d71a-4abf98d26a34"
      },
      "outputs": [
        {
          "output_type": "stream",
          "name": "stdout",
          "text": [
            "3\n"
          ]
        }
      ],
      "source": [
        "import csv\n",
        "import pandas as pd\n",
        "\n",
        "from socket import gaierror\n",
        "z=[]\n",
        "for item in datasets[1:2001]:\n",
        "  for ele in item:\n",
        "    y = []\n",
        "    y.append(ele)\n",
        "    a = presencefavicon(ele)\n",
        "    y.append(a)\n",
        "    z.append(y)\n",
        "\n",
        "print(len(z))"
      ]
    },
    {
      "cell_type": "code",
      "execution_count": null,
      "metadata": {
        "id": "JZhfbO-NBnKS"
      },
      "outputs": [],
      "source": [
        "import pandas as pd\n",
        "heading = ['url','favicon']\n",
        "phish = pd.DataFrame(z,columns=heading)\n",
        "phish.head()\n",
        "phish.to_csv(\"c.csv\",index=False)"
      ]
    }
  ],
  "metadata": {
    "colab": {
      "provenance": []
    },
    "kernelspec": {
      "display_name": "Python 3",
      "name": "python3"
    },
    "language_info": {
      "name": "python"
    }
  },
  "nbformat": 4,
  "nbformat_minor": 0
}